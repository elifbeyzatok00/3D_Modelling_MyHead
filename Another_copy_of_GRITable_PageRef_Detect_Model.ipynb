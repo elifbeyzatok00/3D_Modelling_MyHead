{
  "nbformat": 4,
  "nbformat_minor": 0,
  "metadata": {
    "colab": {
      "provenance": [],
      "authorship_tag": "ABX9TyOE7tmOJsaxecAnJcEpzEni",
      "include_colab_link": true
    },
    "kernelspec": {
      "name": "python3",
      "display_name": "Python 3"
    },
    "language_info": {
      "name": "python"
    }
  },
  "cells": [
    {
      "cell_type": "markdown",
      "metadata": {
        "id": "view-in-github",
        "colab_type": "text"
      },
      "source": [
        "<a href=\"https://colab.research.google.com/github/elifbeyzatok00/3D_Modelling_MyHead/blob/main/Another_copy_of_GRITable_PageRef_Detect_Model.ipynb\" target=\"_parent\"><img src=\"https://colab.research.google.com/assets/colab-badge.svg\" alt=\"Open In Colab\"/></a>"
      ]
    },
    {
      "cell_type": "code",
      "source": [
        "!pip install PyMuPDF\n"
      ],
      "metadata": {
        "colab": {
          "base_uri": "https://localhost:8080/"
        },
        "id": "8JqdCF6-9Hp1",
        "outputId": "352061bf-bbcb-4142-bc0d-9f2b25038e1d"
      },
      "execution_count": 2,
      "outputs": [
        {
          "output_type": "stream",
          "name": "stdout",
          "text": [
            "Collecting PyMuPDF\n",
            "  Downloading PyMuPDF-1.24.9-cp310-none-manylinux2014_x86_64.whl.metadata (3.4 kB)\n",
            "Collecting PyMuPDFb==1.24.9 (from PyMuPDF)\n",
            "  Downloading PyMuPDFb-1.24.9-py3-none-manylinux2014_x86_64.manylinux_2_17_x86_64.whl.metadata (1.4 kB)\n",
            "Downloading PyMuPDF-1.24.9-cp310-none-manylinux2014_x86_64.whl (3.5 MB)\n",
            "\u001b[2K   \u001b[90m━━━━━━━━━━━━━━━━━━━━━━━━━━━━━━━━━━━━━━━━\u001b[0m \u001b[32m3.5/3.5 MB\u001b[0m \u001b[31m36.0 MB/s\u001b[0m eta \u001b[36m0:00:00\u001b[0m\n",
            "\u001b[?25hDownloading PyMuPDFb-1.24.9-py3-none-manylinux2014_x86_64.manylinux_2_17_x86_64.whl (15.9 MB)\n",
            "\u001b[2K   \u001b[90m━━━━━━━━━━━━━━━━━━━━━━━━━━━━━━━━━━━━━━━━\u001b[0m \u001b[32m15.9/15.9 MB\u001b[0m \u001b[31m44.5 MB/s\u001b[0m eta \u001b[36m0:00:00\u001b[0m\n",
            "\u001b[?25hInstalling collected packages: PyMuPDFb, PyMuPDF\n",
            "Successfully installed PyMuPDF-1.24.9 PyMuPDFb-1.24.9\n"
          ]
        }
      ]
    },
    {
      "cell_type": "code",
      "execution_count": 3,
      "metadata": {
        "id": "1gHn0TpJqm-q"
      },
      "outputs": [],
      "source": [
        "import fitz  # PyMuPDF\n",
        "import os\n",
        "import re\n",
        "from sklearn.feature_extraction.text import TfidfVectorizer\n",
        "from sklearn.linear_model import LogisticRegression\n",
        "from sklearn.pipeline import make_pipeline\n",
        "from sklearn.metrics import classification_report, confusion_matrix, accuracy_score\n",
        "from sklearn.model_selection import train_test_split, cross_val_predict\n",
        "import joblib\n",
        "import pandas as pd\n",
        "import numpy as np\n",
        "import seaborn as sns\n",
        "import matplotlib.pyplot as plt\n"
      ]
    },
    {
      "cell_type": "markdown",
      "source": [
        "# Extracting and Preparing Data"
      ],
      "metadata": {
        "id": "fzwKPjnsJS6q"
      }
    },
    {
      "cell_type": "code",
      "source": [
        "def get_color_str(color):\n",
        "    return f\"rgb({color[0]*255:.0f},{color[1]*255:.0f},{color[2]*255:.0f})\"\n",
        "\n",
        "\n",
        "def extract_highlighted_text_by_color(pdf_path):\n",
        "    doc = fitz.open(pdf_path)\n",
        "    highlighted_text_by_color = {}\n",
        "\n",
        "    for page_num in range(len(doc)):\n",
        "        page = doc[page_num]\n",
        "        annotations = page.annots()\n",
        "        if annotations:\n",
        "            for annot in annotations:\n",
        "                if annot.type[0] == 8:  # Highlight annotation\n",
        "                    color = annot.colors['stroke'] if 'stroke' in annot.colors else annot.colors['fill']\n",
        "                    color_str = get_color_str(color)\n",
        "                    if color_str not in highlighted_text_by_color:\n",
        "                        highlighted_text_by_color[color_str] = []\n",
        "                    quadpoints = annot.vertices\n",
        "                    quads = [quadpoints[i:i + 4] for i in range(0, len(quadpoints), 4)]\n",
        "                    for quad in quads:\n",
        "                        rect = fitz.Quad(quad).rect\n",
        "                        words = page.get_text(\"words\", clip=rect)\n",
        "                        words.sort(key=lambda w: (w[1], w[0]))  # sort by y, then by x\n",
        "                        highlighted_text_by_color[color_str].append(\" \".join(w[4] for w in words))\n",
        "\n",
        "    return highlighted_text_by_color\n",
        "\n",
        "def prepare_training_data(directory_path):\n",
        "    training_data = []\n",
        "    labels = []\n",
        "    pdf_files = [f for f in os.listdir(directory_path) if f.endswith('.pdf')]\n",
        "\n",
        "    for pdf_file in pdf_files:\n",
        "        pdf_path = os.path.join(directory_path, pdf_file)\n",
        "        highlights_by_color = extract_highlighted_text_by_color(pdf_path)\n",
        "        doc = fitz.open(pdf_path)\n",
        "\n",
        "        for color, texts in highlights_by_color.items():\n",
        "            for text in texts:\n",
        "                if color == 'rgb(255,240,102)':  # GRI Standard\n",
        "                    training_data.append(text)\n",
        "                    labels.append('GRI_Standard')\n",
        "                elif color == 'rgb(143,222,249)':  # Page references of GRI Standard\n",
        "                    training_data.append(text)\n",
        "                    labels.append('Page_Ref')\n",
        "\n",
        "        # Adding normal text\n",
        "        for page_num in range(len(doc)):\n",
        "            page = doc[page_num]\n",
        "            text = page.get_text(\"text\")\n",
        "            if text.strip() not in training_data:  # Avoid duplication\n",
        "                training_data.append(text.strip())\n",
        "                labels.append('Outside_Entity')  # 'Outside_Entity' for Outside any entity\n",
        "\n",
        "    return training_data, labels\n",
        "\n",
        "directory_path = '/content/labeled_dataset'  # Update this path to your labeled dataset directory\n",
        "training_data, labels = prepare_training_data(directory_path)\n"
      ],
      "metadata": {
        "id": "NO2zE8tDJSpd"
      },
      "execution_count": 5,
      "outputs": []
    },
    {
      "cell_type": "code",
      "source": [
        "# Debug: Print sample of training data and labels\n",
        "for i in range(5):\n",
        "    print(f\"Text: {training_data[i]}, Label: {labels[i]}\")"
      ],
      "metadata": {
        "colab": {
          "base_uri": "https://localhost:8080/"
        },
        "id": "BctXOuDfJmlR",
        "outputId": "52f2d31d-0996-4997-fd3b-ac6b1989910e"
      },
      "execution_count": 6,
      "outputs": [
        {
          "output_type": "stream",
          "name": "stdout",
          "text": [
            "Text: G4-1 Statement from most senior decision maker., Label: GRI_Standard\n",
            "Text: G4-2 Key impacts, risks and opportunities, Label: GRI_Standard\n",
            "Text: G4-3 Name of the organisation., Label: GRI_Standard\n",
            "Text: G4-4 Primary brands, products and services, Label: GRI_Standard\n",
            "Text: G4-5 Location of the organisation‘s headquarters., Label: GRI_Standard\n"
          ]
        }
      ]
    },
    {
      "cell_type": "markdown",
      "source": [
        "### check training data and labels"
      ],
      "metadata": {
        "id": "TAAAtPsZJqlr"
      }
    },
    {
      "cell_type": "code",
      "source": [
        "import pandas as pd\n",
        "df = pd.DataFrame({'text': training_data, 'label': labels})\n",
        "print(df)\n"
      ],
      "metadata": {
        "colab": {
          "base_uri": "https://localhost:8080/"
        },
        "id": "b7kl6ACnJsBO",
        "outputId": "e050c8f0-22c2-4da4-8777-cbe8597be36c"
      },
      "execution_count": 7,
      "outputs": [
        {
          "output_type": "stream",
          "name": "stdout",
          "text": [
            "                                                  text           label\n",
            "0      G4-1 Statement from most senior decision maker.    GRI_Standard\n",
            "1            G4-2 Key impacts, risks and opportunities    GRI_Standard\n",
            "2                       G4-3 Name of the organisation.    GRI_Standard\n",
            "3           G4-4 Primary brands, products and services    GRI_Standard\n",
            "4    G4-5 Location of the organisation‘s headquarters.    GRI_Standard\n",
            "..                                                 ...             ...\n",
            "490  •\\n•\\nWe will not tolerate the use, possession...  Outside_Entity\n",
            "491  WPP Human Rights Policy Statement\\nIntroductio...  Outside_Entity\n",
            "492  Our policy\\nTo embed our commitment to protect...  Outside_Entity\n",
            "493  Cover illustration \\nby Pablo S. Herrero \\nBre...  Outside_Entity\n",
            "494                                            wpp.com  Outside_Entity\n",
            "\n",
            "[495 rows x 2 columns]\n"
          ]
        }
      ]
    },
    {
      "cell_type": "code",
      "source": [
        "GRI_Standard_df = df[df['label'] == 'GRI_Standard']\n",
        "print(GRI_Standard_df)"
      ],
      "metadata": {
        "colab": {
          "base_uri": "https://localhost:8080/"
        },
        "id": "dCJAb1F-JtPT",
        "outputId": "1c3c00aa-cc62-4ede-dd11-9812086e246b"
      },
      "execution_count": 8,
      "outputs": [
        {
          "output_type": "stream",
          "name": "stdout",
          "text": [
            "                                                  text         label\n",
            "0      G4-1 Statement from most senior decision maker.  GRI_Standard\n",
            "1            G4-2 Key impacts, risks and opportunities  GRI_Standard\n",
            "2                       G4-3 Name of the organisation.  GRI_Standard\n",
            "3           G4-4 Primary brands, products and services  GRI_Standard\n",
            "4    G4-5 Location of the organisation‘s headquarters.  GRI_Standard\n",
            "..                                                 ...           ...\n",
            "210  including advertising, promotion, and sponsorship  GRI_Standard\n",
            "211                               by type of outcomes.  GRI_Standard\n",
            "212               G4-PR8 Total number of substantiated  GRI_Standard\n",
            "213          complaints regarding breaches of customer  GRI_Standard\n",
            "214               privacy and losses of customer data.  GRI_Standard\n",
            "\n",
            "[215 rows x 2 columns]\n"
          ]
        }
      ]
    },
    {
      "cell_type": "code",
      "source": [
        "Page_Ref_df = df[df['label'] == 'Page_Ref']\n",
        "print(Page_Ref_df)"
      ],
      "metadata": {
        "colab": {
          "base_uri": "https://localhost:8080/"
        },
        "id": "8lOfQCSBJu4I",
        "outputId": "953bdcb1-3bb4-40af-ec20-a00c45403e3a"
      },
      "execution_count": 9,
      "outputs": [
        {
          "output_type": "stream",
          "name": "stdout",
          "text": [
            "               text     label\n",
            "215          page 2  Page_Ref\n",
            "216          page 8  Page_Ref\n",
            "217         page 11  Page_Ref\n",
            "218         page 11  Page_Ref\n",
            "219         page 14  Page_Ref\n",
            "..              ...       ...\n",
            "362         page 33  Page_Ref\n",
            "363  pages 90 to 91  Page_Ref\n",
            "364         page 29  Page_Ref\n",
            "365         page 34  Page_Ref\n",
            "366         page 15  Page_Ref\n",
            "\n",
            "[152 rows x 2 columns]\n"
          ]
        }
      ]
    },
    {
      "cell_type": "code",
      "source": [
        "Outside_Entity_df = df[df['label'] == 'Outside_Entity']\n",
        "print(Outside_Entity_df)"
      ],
      "metadata": {
        "colab": {
          "base_uri": "https://localhost:8080/"
        },
        "id": "tKrKiXFgJxA3",
        "outputId": "984ef8eb-8bdb-431d-cbcd-1aa23e47d61e"
      },
      "execution_count": 11,
      "outputs": [
        {
          "output_type": "stream",
          "name": "stdout",
          "text": [
            "                                                  text           label\n",
            "367                    Sustainability Report 2016/2017  Outside_Entity\n",
            "368  Introduction\\n2\\t\\nFrom our CEO\\n4\\t\\nWho we a...  Outside_Entity\n",
            "369  WPP is the world’s leading communications serv...  Outside_Entity\n",
            "370  To say that 2016 was a year of political uncer...  Outside_Entity\n",
            "371  We are collaborating internally and with the o...  Outside_Entity\n",
            "..                                                 ...             ...\n",
            "490  •\\n•\\nWe will not tolerate the use, possession...  Outside_Entity\n",
            "491  WPP Human Rights Policy Statement\\nIntroductio...  Outside_Entity\n",
            "492  Our policy\\nTo embed our commitment to protect...  Outside_Entity\n",
            "493  Cover illustration \\nby Pablo S. Herrero \\nBre...  Outside_Entity\n",
            "494                                            wpp.com  Outside_Entity\n",
            "\n",
            "[128 rows x 2 columns]\n"
          ]
        }
      ]
    },
    {
      "cell_type": "markdown",
      "source": [
        "# Train Model"
      ],
      "metadata": {
        "id": "ygPrvNSyI2yY"
      }
    },
    {
      "cell_type": "code",
      "source": [
        "# Train the model\n",
        "def train_model(training_data, labels):\n",
        "    vectorizer = TfidfVectorizer()\n",
        "    classifier = LogisticRegression()\n",
        "    model = make_pipeline(vectorizer, classifier)\n",
        "    model.fit(training_data, labels)\n",
        "    joblib.dump(model, 'gri_model.pkl')\n",
        "    return model # Added return statement to return the trained model\n"
      ],
      "metadata": {
        "id": "m0kgHNuB9U1a"
      },
      "execution_count": 12,
      "outputs": []
    },
    {
      "cell_type": "code",
      "source": [
        "# Predict using the model\n",
        "def predict_with_model(pdf_path, model_path='gri_model.pkl'):\n",
        "    model = joblib.load(model_path)\n",
        "    doc = fitz.open(pdf_path)\n",
        "    GRI_Standards = []\n",
        "    page_references = []\n",
        "    outside_entities  = []\n",
        "\n",
        "    for page_num in range(len(doc)):\n",
        "        page = doc[page_num]\n",
        "        text = page.get_text(\"text\")\n",
        "        predictions = model.predict([text])\n",
        "\n",
        "        if 'GRI_Standard' in predictions:\n",
        "            GRI_Standards.append((page_num + 1, text))\n",
        "        if 'Page_Ref' in predictions:\n",
        "            page_references.append((page_num + 1, text))\n",
        "        if 'Outside_Entity' in predictions:\n",
        "            outside_entities.append((page_num + 1, text))\n",
        "\n",
        "    return GRI_Standards, page_references, outside_entities\n"
      ],
      "metadata": {
        "id": "9iYNeClp9ZIN"
      },
      "execution_count": 13,
      "outputs": []
    },
    {
      "cell_type": "code",
      "source": [
        "# Example usage\n",
        "directory_path = '/content/labeled_dataset'  # Directory containing the training PDFs\n",
        "training_data, labels = prepare_training_data(directory_path)\n",
        "X_train, X_test, y_train, y_test = train_test_split(training_data, labels, test_size=0.2, random_state=42)\n"
      ],
      "metadata": {
        "id": "k6dqb7nU9gRi"
      },
      "execution_count": 14,
      "outputs": []
    },
    {
      "cell_type": "code",
      "source": [
        "model = train_model(X_train, y_train)\n"
      ],
      "metadata": {
        "id": "qtJjbyMBAQFB"
      },
      "execution_count": 15,
      "outputs": []
    },
    {
      "cell_type": "markdown",
      "source": [
        "# Evaluate Model"
      ],
      "metadata": {
        "id": "ObH0vWqqeHHx"
      }
    },
    {
      "cell_type": "code",
      "source": [
        "from sklearn.metrics import classification_report, confusion_matrix, accuracy_score # import the necessary functions\n",
        "\n",
        "def evaluate_model(model, X_test, y_test):\n",
        "  \"\"\"\n",
        "  Evaluates a machine learning model and prints the accuracy.\n",
        "\n",
        "  Args:\n",
        "    model: The trained machine learning model.\n",
        "    X_test: The test data features.\n",
        "    y_test: The test data labels.\n",
        "  \"\"\"\n",
        "  y_pred = model.predict(X_test)\n",
        "  report = classification_report(y_test, y_pred) # changed the variable name to report to avoid conflict with the function name\n",
        "  conf_matrix = confusion_matrix(y_test, y_pred) # changed the variable name to conf_matrix to avoid conflict with the function name\n",
        "  accuracy = accuracy_score(y_test, y_pred)\n",
        "  print(f\"Classification Report:\\n{report}\")\n",
        "  print(f\"Confusion Matrix:\\n{conf_matrix}\")\n",
        "  print(f\"Accuracy: {accuracy}\")\n"
      ],
      "metadata": {
        "id": "mXzwxMeUep21"
      },
      "execution_count": 16,
      "outputs": []
    },
    {
      "cell_type": "code",
      "source": [
        "evaluate_model(model, X_test, y_test)\n"
      ],
      "metadata": {
        "colab": {
          "base_uri": "https://localhost:8080/"
        },
        "id": "2t4j1YU8cpAc",
        "outputId": "6a6f8e8f-5088-486c-fd9c-5155462c15ea"
      },
      "execution_count": 17,
      "outputs": [
        {
          "output_type": "stream",
          "name": "stdout",
          "text": [
            "Classification Report:\n",
            "                precision    recall  f1-score   support\n",
            "\n",
            "  GRI_Standard       0.96      1.00      0.98        46\n",
            "Outside_Entity       1.00      0.94      0.97        31\n",
            "      Page_Ref       1.00      1.00      1.00        22\n",
            "\n",
            "      accuracy                           0.98        99\n",
            "     macro avg       0.99      0.98      0.98        99\n",
            "  weighted avg       0.98      0.98      0.98        99\n",
            "\n",
            "Confusion Matrix:\n",
            "[[46  0  0]\n",
            " [ 2 29  0]\n",
            " [ 0  0 22]]\n",
            "Accuracy: 0.9797979797979798\n"
          ]
        }
      ]
    },
    {
      "cell_type": "code",
      "source": [
        "# Predict on a new PDF\n",
        "new_pdf_path = '/content/unlabeled_dataset/352031_1.pdf'\n",
        "GRI_Standards, page_references, outside_entities = predict_with_model(new_pdf_path)\n"
      ],
      "metadata": {
        "id": "kWWneGSD9sh-"
      },
      "execution_count": 20,
      "outputs": []
    },
    {
      "cell_type": "code",
      "source": [
        "print(\"GRI Standards:\")\n",
        "for standard in GRI_Standards:\n",
        "    print(f\"{standard}\\n\")\n"
      ],
      "metadata": {
        "colab": {
          "base_uri": "https://localhost:8080/"
        },
        "id": "SJ9-3g3k-aSi",
        "outputId": "7623dfb2-a6fd-4d6d-d1a4-abfa0f3fd543"
      },
      "execution_count": 24,
      "outputs": [
        {
          "output_type": "stream",
          "name": "stdout",
          "text": [
            "GRI Standards:\n",
            "(1, '1\\nCorporate Responsibility Report 2016\\n2016\\nresponsibility \\nreport\\nCorporate \\n')\n",
            "\n",
            "(6, '6\\nCorporate Responsibility Report 2016\\nHow we govern \\nOur board\\nThe Grieg Star Group Board of Directors is lead by Chair Elisabeth Grieg and meets \\nregularly in Bergen and Oslo to stake out the long term strategies for the company. \\nSince last year we have had some changes in the composition of the board. Bjørn Ga-\\nbriel Reed and Rune Birkeland have left the board, and Susanne Munch Thore sat a \\nshort period. In June 2017 Michelle Williams entered as Board Member. Board mem-\\nbers abstain from board discussions if potential conflict of interests occur. Board \\nmembers are recruited using independent executive search.\\nThe Board of Directors comprises:\\nHow we do it\\nElisabeth Grieg \\n(Chair and owner)\\nCamilla Grieg \\n(CEO and owner)\\nKai Grøtterud\\nMichelle Williams\\nDidrik Munch\\nGRI 4:1\\nGRI 4:2\\nGRI 4:3\\nGRI 4:4\\nGRI 4:6\\nGRI 4.9\\n \\n')\n",
            "\n",
            "(28, '28\\nCorporate Responsibility Report 2016\\nOur responsibility\\nModel tests for \\noptimal trim per-\\nformed on all vessels \\nnewer than the G-class. \\nModel data included in \\ncargo stewing software \\nto obtain optimal \\ntrim.\\nWeather routing system \\nused in all vessels for \\noptimal sailing route.\\nMarorka Energy \\nEfficiency System \\ninstalled on five vessels.\\nMevis duct so far \\ninstalled on four vessels. \\nTests indicate 5-6 % fuel \\nreduction.\\nPropeller Boss Cap Fin \\n(PBCF) installed \\non K-class vessels. 2 % \\nenergy reduction \\nexpected.\\nPropellers polished every \\n6 months\\nElectronic fuel injection \\non main engines chosen \\nfor L-class vessels.\\nFrequency control \\nof large pumps on \\nnew vessels. Expecting \\nsubstantial energy saving \\nduring land stay.\\nSliding fuel valves \\ninstalled on G-class and \\nnewer. Reduces NOx \\nemissions by 35 %.\\nAuto tuning for optimal\\noperation of Main Engine\\nOptimized slow-steaming \\nto reduce engine load.\\nStern tube oil replace by \\nbiodegradeble oil\\nFrequenzy controlled \\npumps to reduce energy \\nconsumption.\\nGreen passport on all new \\nand operating ships.\\nTraditional light bulbs \\nreplaced by LED.\\nGood seamanship and \\noperational practice\\nIncreased use of Eco-\\nspeed to reduce fuel \\nconsumption.\\n')\n",
            "\n",
            "(35, '35\\nCorporate Responsibility Report 2016\\nOur fleet\\nClass\\nName\\nBuilt\\nDWT\\nType\\nOwned/LTTC/\\nBB\\nF\\nStar Fuji\\n1985\\n40,850\\nOpen Hatch\\nOwned\\nG\\nStar Gran\\n1986\\n43,712\\nOpen Hatch\\nOwned\\nG\\nStar Grip\\n1986\\n43,712\\nOpen Hatch\\nOwned\\nH\\nStar Hansa\\n1995\\n46,580\\nOpen Hatch\\nOwned\\nH\\nStar Harmonia\\n1998\\n46,580\\nOpen Hatch\\nOwned\\nH\\nStar Herdla\\n1994\\n46,580\\nOpen Hatch\\nOwned\\nH\\nStar Hidra\\n1994\\n46,580\\nOpen Hatch\\nOwned\\nI\\nStar Isfjord\\n2000\\n46,547\\nOpen Hatch\\nOwned\\nI\\nStar Ismene\\n1999\\n46,547\\nOpen Hatch\\nOwned\\nI\\nStar Istind\\n1999\\n46,547\\nOpen Hatch\\nOwned\\nJ\\nStar Japan\\n2004\\n44,837\\nOpen Hatch\\nOwned\\nJ\\nStar Java\\n2006\\n44,837\\nOpen Hatch\\nOwned\\nJ\\nStar Juventas\\n2004\\n44,837\\nOpen Hatch\\nOwned\\nK\\nStar Kilimanjaro\\n2009\\n49,924\\nOpen Hatch\\nOwned\\nK\\nStar Kinn\\n2010\\n49,924\\nOpen Hatch\\nOwned\\nK\\nStar Kirkenes\\n2009\\n49,924\\nOpen Hatch\\nOwned\\nK\\nStar Kvarven\\n2010\\n49,924\\nOpen Hatch\\nOwned\\nL\\nStar Laguna\\n2012\\n50,761\\nOpen Hatch\\nOwned\\nL\\nStar Lima\\n2012\\n50,761\\nOpen Hatch\\nOwned\\nL\\nStar Lindesnes\\n2013\\n50,761\\nOpen Hatch\\nOwned\\nL\\nStar Livorno\\n2013\\n50,761\\nOpen Hatch\\nOwned\\nL\\nStar Loen\\n2013\\n50,761\\nOpen Hatch\\nOwned\\nL\\nStar Lofoten\\n2013\\n50,761\\nOpen Hatch\\nOwned\\nL\\nStar Louisiana\\n2013\\n50,761\\nOpen Hatch\\nBB\\nL\\nStar Luster\\n2013\\n50,761\\nOpen Hatch\\nOwned\\nL\\nStar Lygra\\n2014\\n50,761\\nOpen Hatch\\nBB\\nL\\nStar Lysefjord\\n2013\\n50,761\\nOpen Hatch\\nOwned\\nM\\nKai Xuan\\n2008\\n50,761\\nOpen Hatch\\nBB\\nM\\nStar Minerva\\n2008\\n50,757\\nOpen Hatch\\nBB\\nM\\nStar Navarra\\n2010\\n51,593\\nOpen Hatch\\nLTTC\\nM\\nStar Dalmatia\\n2011\\n51,593\\nOpen Hatch\\nLTTC\\n-\\nStar Athena\\n2012\\n58,018\\nConv. bulk\\nOwned\\n-\\nStar Artemis\\n2015\\n63,132\\nConv. bulk\\nOwned\\n-\\nStar Eracle\\n2012\\n58,018\\nConv. bulk\\nOwned\\n-\\nStar Eos\\n2015\\n63,132\\nConv. bulk\\nOwned\\n-\\nStar Norita\\n2012\\n58,097\\nConv. bulk\\nLTTC\\n-\\nStar Maine\\n2015\\n61,263\\nConv. bulk\\nLTTC\\n-\\nStar Pathfinder\\n2015\\n61,298\\nConv. bulk\\nLTTC\\n-\\nStar Crimson\\n2015\\n61,150\\nConv. bulk\\nLTTC\\n31 Open Hatch vessels\\n8 Conventional Bulk carriers\\n39 vessels in total\\n')\n",
            "\n",
            "(38, '38\\nCorporate Responsibility Report 2016\\nEN11\\nLocation and size of land in areas of high biodiversity value outside \\nprotected areas\\nNot relevant\\nEN12\\nImpacts on biodiversity in protected areas and  areas of high \\nbiodiversity \\nPage 27\\nEN16\\nTotal direct and indirect greenhouse gas emissions by weight\\nPage 25\\nEN17\\nOther relevant indirect greenhouse gas emissions by weight\\nPage 26\\nEN18*\\nInitiatives to reduce greenhouse gas emissions and reductions \\nachieved\\nPages 25, 26\\nEN19\\nEmissions of ozone-depleting substances by weight\\nNot reported\\nEN20\\nNOx, SOx, and other significant air emissions by type and weight\\nPage 26\\nEN21\\nTotal water discharge by quality and destination\\nPage 21\\nEN22\\nTotal weight of waste by type and disposal method \\nPage 27\\nEN23\\nTotal number and volume of significant spills\\nPage 27\\nEN26\\nEnvironmental impacts of products and services, and extent of \\nimpact mitigation\\nNot reported\\nEN27\\nPercentage of products sold and their packaging materials that are \\nreclaimed by category\\nNot reported\\nEN28\\nSignificant fines and sanctions for non-compliance with environ-\\nmental laws and regulations\\nNone\\nSOCIAL PERFOMANCE INDICATORS\\nLabor Practices and Decent Work\\nManagement Approach\\nLA1\\nTotal workforce by employment type, employment contract, and \\nregion\\nPages 14-15\\nLA2\\nEmployee turnover by age group, gender, and region\\nPages 14-15\\nLA4\\nPercentage of employees covered by collective bargaining agree-\\nments\\nPage 15\\nLA5\\nMinimum notice period(s) regarding operational changes\\nPage 15\\nLA6*\\nFormal joint management-worker health and safety committees\\nPages 15, 19\\nLA7\\nInjuries, occupational diseases, lost days, absenteeism, and \\nwork-related fatalities\\nPages 15, 20\\nLA8\\nEducation, training, prevention, and risk-control programs in place \\nregarding serious diseases\\nPages 17, 19\\nLA9*\\nHealth and safety topics covered in formal agreements with trade \\nunions\\nPage 16\\nLA10\\nAverage hours of training per year per employee by employee \\ncategory\\nPage 17\\nLA13\\nDiversity within governance bodies and employee categories \\nAR16\\nLA14\\nRatio of basic salary of men to women by employee category\\nNot reported\\nMobile worker working pattern\\nLT9\\nDescription of policies and programmes to determine working \\nhours and rest hours, rest facilities and leave for seafarers\\nPage 15\\nLT10\\nApproaches to provision of facilities to enable mobile workers to \\nmaintain personal communication while working\\nPage 23\\n')\n",
            "\n",
            "(40, 'griegstar.com\\n')\n",
            "\n"
          ]
        }
      ]
    },
    {
      "cell_type": "code",
      "source": [
        "print(\"Page References:\")\n",
        "for ref in page_references:\n",
        "    print(f\"{ref}\\n\")\n"
      ],
      "metadata": {
        "colab": {
          "base_uri": "https://localhost:8080/"
        },
        "id": "nvG4U9Sue6BC",
        "outputId": "27852fa0-1222-4915-d9b1-ccde68b68b8b"
      },
      "execution_count": 26,
      "outputs": [
        {
          "output_type": "stream",
          "name": "stdout",
          "text": [
            "Page References:\n",
            "(2, '2\\nCorporate Responsibility Report 2016\\nPage 3..........................................From our Chair\\nPage 4 & 5...................................Vision, Mission and Values\\nPage 6 & 7....................................How we govern\\nPage 8 & 9...................................Ethics and anti-corruption\\nPage 10-12.\\n..................................How we do it\\nPage 13.........................................Our vessels\\nPage 14-19.\\n..................................Our people\\nPage 20-21..................................Safety\\nPage 22-23.\\n.................................How we communicate\\nPage 24-31..................................Environment\\nPage 32-33..................................Grieg Foundation and local contributions\\nPage 34........................................Our history\\nPage 35........................................Our fleet\\nPage 36-39.\\n.................................GRI Index\\nContent\\nAll images Grieg Star copyright, except page \\n24 courtesy of the WWF Philippines .\\n \\n')\n",
            "\n"
          ]
        }
      ]
    },
    {
      "cell_type": "code",
      "source": [
        "print(\"Outside Entities:\")\n",
        "for entity in outside_entities:\n",
        "    print(f\"{entity}\\n\")"
      ],
      "metadata": {
        "id": "_ZPw8_HMkYpb",
        "colab": {
          "base_uri": "https://localhost:8080/"
        },
        "outputId": "43441e59-c955-4790-b326-277a6386a07e"
      },
      "execution_count": 28,
      "outputs": [
        {
          "output_type": "stream",
          "name": "stdout",
          "text": [
            "Outside Entities:\n",
            "(3, '3\\nCorporate Responsibility Report 2016\\nElisabeth Grieg\\nChair, Board of Directors\\nThe world around us is changing at a pace \\nwe’re hardly able to capture, and sometimes in \\ndirections difficult to foresee. Yet, we must do \\nour best to understand, because the future of \\nthe maritime industry is indisputably inter-\\ntwined with the deeper changes in geopolitics, \\nworld economy and human development.   \\nA constant state of change has always been a \\nfeature of our industry, and we know very well \\nthat there are moments when more radical \\nshifts will occur. I believe we’re at the thresh-\\nold of such a moment right now. Driving this \\nrevolution are threats from climate change and \\nprofound social instability, combined with op-\\nportunities produced by the staggering rise of \\nurban middle-class and \\nbreathtaking techno-\\nlogical developments in \\nan ever more globalized \\nand knowledge-driven \\neconomy.  Together, \\nthey will fundamentally \\nimpact and change the way we live our lives \\nand do our business.\\nIt is troubling to see how some respond to \\nthese changes by retracting from the global \\ncommunity, ignoring our commonalities and \\nundermining shared international commit-\\nments. It is worrying when countries we used \\nto trust as standard-bearers for an open, \\nfree and inclusive world now are feasting \\non self-centered concepts of a world divid-\\ned between us and them, encouraged by a \\npublic outcry for higher barriers and stronger \\nborders.  \\nThat is not our way.  True, the shipping mar-\\nkets have been in turmoil since the economic \\ncrisis hit us in 2008. And yes, many of us have \\nbeen through some serious struggles just to \\nsurvive these last years. And I know, we still \\nhave difficulties ahead of us. But we have \\nalso learned that risks can emerge hand in \\nhand with new and exciting opportunities. For \\ncenturies, shipping has opened and connected \\nthe world to a splendid exchange of goods and \\nservices, knowledge, people and ideas. \\nDemanding times only encourages us to find \\nnew and better ways. Just like we did when \\nGrieg Star and Gearbulk joined forces and \\nlaunched G2 Ocean, the largest fleet of open \\nhatch vessels worldwide. With a vision of «Pi-\\noneering sustainable shipping solutions», our \\nmind-set and goals are certainly to take a lead \\nin the next era of international shipping.\\nOur response from the Grieg Group is very \\nclear: Individuals, governments and busi-\\nnesses - we are in \\nthis together.  Our \\ncommitment to the \\nUN Global Compact \\nand support for the \\nSustainable Devel-\\nopment Goals are \\nacknowledgements of our responsibility as \\nglobal citizens.  \\nTogether we must address some serious chal-\\nlenges. They are shared across countries and \\npolitical divides, languages, cultures and reli-\\ngious beliefs, across continents and the deep \\noceans. Because healthy businesses thrive \\nwithin healthy societies. And healthier societ-\\nies can only come true when we, the private \\nsector, are engaged to develop profitable and \\nsustainable business-solutions responding to \\nhuman needs. So, we’ll have to joint our forces, \\nmobilize our finest resources - and act togeth-\\ner. That’s the only viable way forward.\\nGRI 1.1\\nGRI 1.2\\nGRI EC2\\n“\\nIndividuals, governments \\nand businesses - we are in \\nthis together\\n \\n')\n",
            "\n",
            "(4, '4\\nCorporate Responsibility Report 2016\\nOur mission:\\nGrieg Star - A solid and dynamic partner\\nGrieg Star is a solid, long term business partner, more dynamic than its competitors, \\nrecognized by a strong company culture, fully integrated with efficient cooperation \\nand processes. \\nGrieg Star is continuously looking for new solutions and improvements and is not \\nafraid of doing things its own way, whether it is related to smarter and more efficient \\nsolutions for customers or new solutions for environmental care. \\nIn the heart of our competitive strength lies a sincere commitment to our business \\npartners and a strong understanding of the market.\\nCreate lasting value \\nthrough our common effort\\nOur Vision\\n \\n')\n",
            "\n",
            "(5, '5\\nCorporate Responsibility Report 2016\\nOur values\\nSolid\\nWe emphasize the importance of hav-\\ning a strong economic foundation and a \\nlong term approach to our business.\\nWe strive towards quality and compe-\\ntence and act on sound ethical princi-\\nples.\\nWe stand by our commitments.\\nCommitted\\nWe are committed to the same vision, \\nmission, values and objectives as well \\nas the interests of our  stakeholders.\\nWe take great interest in our job and \\nworking environment, building a strong \\nand including company culture.\\nWe accept responsibility for the envi-\\nronment and the society.\\nOpen\\nWe inform, invite and include.\\nWe are honest, speak clearly and direct.\\nWe are open minded and regard integ-\\nrity and respect as indisputable require-\\nments.\\nProud\\nWe want to be proud of our business, \\nits methods, products and results.\\nWe assume responsibility for a solid \\nbrand name an a good working \\nenvironment.\\nWe contribute to the welfare of our \\nsociety.\\n')\n",
            "\n",
            "(7, '7\\nCorporate Responsibility Report 2016\\nOur Management team\\nThe Grieg Star Management Team, lead by CEO Camilla Grieg, oversees day-to-day \\nbusiness. They meet weekly to implement strategies and plans approved by the \\nBoard, and to ensure holistic operations. The team consists of leaders from all parts \\nof our business. In 2016 the team consisted of 44 % women.\\nRisk management\\nRisk management is vital to protect the environment as well as our people, vessels, \\ncargo, equipment and business. January 1st 2015 our new Quality Management \\nReporting System (QMRS) was put into force. This includes Improvement Reporting \\nand Audits & Inspections. \\nAs of January 1st 2016 the QMRS was expanded to include chartering, operation and \\nanti-corruption reporting. Our Quality Manager and the QMS Steering Committee \\nhead this work.\\nRisk assessments are always performed in accordance with governing documents in \\nour Quality Management System.\\nBusiness continuity and emergency response\\nTo be able to continue to conduct our oper-\\nations and business in case of an incident, \\nemergency and business continuity plans are \\na vital part of our governing documents. The \\nEmergency Preparedness Team convenes \\nwhenever an incident occurs, and drills are car-\\nried out regularly both onshore and on board \\nour vessels, to ensure our organisation is fit \\nfor purpose. We review the emergency plans \\ncontinuously, both as result of findings during \\ndrills and based on new knowledge. \\nGRI 1:2\\nGRI 2.3 \\nGRI 4.11\\nGRI SO2\\nFire drill onboard STAR LOFOTEN, October 2016\\nGRI 4.1\\n')\n",
            "\n",
            "(8, '8\\nCorporate Responsibility Report 2016\\nEthics and anti corruption\\nEthical guidelines\\nAs a member of the Grieg Group, Grieg Star aims to be recognized by high standards \\nfor health and safety, environment and ethics. The objective of the ethical guidelines \\nis to state the requirements for business practice and personal behaviour. The target \\ngroup is all employees working for the Grieg Group, including the members of the \\nBoards of each company and subsidiary of the Grieg Group. It is the responsibility of \\nall employees to understand and demonstrate these principles. All relevant Norwe-\\ngian and international laws and regulations must be carefully observed. Personal and \\nbusiness conduct must be well within the intentions of the principles outlined below. \\nThe management in each of the companies has the overall responsibility to ensure \\nthat the guidelines are observed and respected. Violations of the ethical guidelines \\nwill have consequences, and serious incidents may result in termination of employ-\\nment. The ethical guidelines are approved by the Board of Directors in each compa-\\nny within the Grieg Group and apply from January 2013.\\nThe values shared by all Grieg Group companies shall be expressed in the way busi-\\nness is conducted, in interaction with each other, and with customers, suppliers and \\nother stakeholders. The values are: Open, Solid, Proud and Committed.\\nOur ethical principles\\n1.\\t\\nWe will carry out our business fairly, honestly and openly\\n2.\\t We do not accept any form of discrimination of employees or others \\ninvolved in our activities\\n3.\\t We do not accept any form of corruption, nor will we condone it taking \\nplace on our behalf so as to influence business.\\n4.\\t We will avoid doing business with others who do not accept our values \\nand who may harm our reputation.\\n5.\\t We shall be careful about giving and accepting gifts or other services.\\n6.\\t We will keep clear and updated records of all business transactions made \\non behalf of the Grieg Group.\\n7.\\t\\nWe will avoid situations where personal interests may conflict with the \\ninterests of the Grieg Group.\\n8.\\t We will treat all information, assets and property of the Grieg Group \\nresponsibly and professionally.\\nIf an employee is concerned about a potential breach of any of the Grieg Group’s \\nethical principles, these concerns should be reported immediately.  Individuals may \\nreport through the regular channels; to their superior, or to their superior’s superior.  \\nAs from 2017, employees may also report directly to the Grieg Group Whistle-blower \\nChannel, a web-based solution established by EY also covering anonymous reporting \\nHow we do it\\nGRI 4:8\\n')\n",
            "\n",
            "(9, '9\\nCorporate Responsibility Report 2016\\noptions. The concern may also be raised to any member of the board of directors in \\neach respective company within the Grieg Group.\\nReporting of potential breaches of the ethical principles is considered loyal, and will \\nbe treated in a responsible manner. Whoever reports such incidents will not experi-\\nence any negative consequences. \\nAnti corruption\\nWith its global presence, the shipping industry operates in environments particularly \\nprone to corruption, countries with poor governance and legal frameworks, and ports \\nin lack of structures and standard operating procedures.  Corruption risks may range \\nfrom small facilitation payments to bribes, extortion and trading in influence.  The \\nlegal framework on anti-corruption is ever stricter and requires businesses to take \\naction and work systematically to reduce risks.\\nGrieg Star recognises the need to provide employees and third parties with clear eth-\\nical guidelines and regular support in tackling these challenges.  Our leaders need to \\nset the tone and demonstrate our commitment to high ethical standards.  Similarly, \\nour captains and crew need to be supported. They are in the front line when facing \\nthe challenge; pay or risk delay. On board our ships we state our no-corruption policy \\nclearly to all visitors and officials. The message is communicated in five languages; \\nEnglish, Mandarin Chinese, Hindu, Arabic and Bahasa Indonesia. This message is also \\nsent out to our agents. All reported incidents of corruption are recorded, and when-\\never appropriate raised with agents and local port offices.\\nTo fight corruption in the maritime industry, Grieg Star has \\njoined the Maritime Anti-Corruption Network (MACN), a \\nglobal business network working for a maritime industry free \\nof all types of corruption. MACN consists of a member-elected \\nsteering committee, several working groups, and the MACN \\nmember meetings. Members meet in-person at least twice a \\nyear, with more frequent interaction through working groups. \\nAnti-corruption training workshops for the seafarers are conducted at bi-annual \\nofficers’ conferences and regularly at our manning office. \\nGRI 4:12\\nGRI 4:13\\nGRI S04\\nGRI S05\\nWelcome onboard\\nWe encourage you to study the information \\nbelow and observe Grieg Star’s instructions \\nto ensure a safe and secure working \\nenvironment onboard the vessel.\\nNo employee at any level \\nmay offer, promise or give \\nanything of value (including \\ncigarettes or alcohol) to any \\npublic official or business \\npartner. \\nNor \\nmay \\nany \\nemployee ask for or accept \\nany bribe or undue gift.\\nGrieg Star is a member of \\nthe Maritime Anti-Corruption \\nNetwork (MACN) targeting \\ncorrupt practices in ports. \\nAll incidents will be reported \\nto MACN and ultimately \\nappropriate authorities.\\nPlease do\\nWear Personal Protective \\nEquipment and strictly follow the \\nrules and requirements on board\\nHelp maintain a safe working \\nenvironment and report anything \\nyou consider unsafe\\nFollow the alarms and any \\ninstructions given by the crew\\nKeep the workplace tidy and use \\nthe correct garbage bins to ensure \\nproper handling of garbage \\nPlease do not\\nSmoke outside designated areas\\nEnter any restricted area not related \\nto your work onboard\\nBlock walking areas or doors, \\nespecially around fire escapes and \\nexit routes\\nCIGARET\\nno corruPtion\\nGrieg star does not offer or accept any form \\nof corruption, including bribery, facilitation \\npayments and undue gifts.\\n欢迎登船 \\n我们建议您学习以下信息并留\\n意格利戈星航公司的指 示，以\\n确保登船工作环境的安全保障\\n性。                        \\n请务必：\\n穿戴个人防护衣和设备，               \\n并严格遵循船上规则及要求；      \\n帮助维持安全的工作环境并             \\n报告任何你认为不安全的情况;\\n遵从船员给出的任何警告和提示；\\n       \\n保持工作场所的整洁并正确使用 \\n \\n \\n \\n \\n \\n \\n \\n \\n \\n \\n \\n \\n \\n \\n \\n \\n \\n \\n \\n \\n \\n \\n \\n \\n \\n \\n \\n \\n \\n \\n \\n \\n \\n \\n \\n \\n \\n \\n \\n \\n \\n \\n \\n \\n \\n \\n \\n \\n垃圾桶，以确保垃圾的妥善处理。 \\n请勿：\\n在非指定区域抽烟；\\n进入任何跟你船上工作无关       \\n的禁止区域；\\n封堵人行通道或门禁，特别是\\n防火逃生通道。\\nCIGARET\\n禁止腐败 \\n格利戈星航不提供或接受任何形式的腐败，\\n包括贿赂，便利性付款和不适当的礼物\\n严禁任何级别的员工提供，\\n许诺 或给予任何有价值的\\n物品（包括 香烟或酒精）\\n给任何政府官员或 商业合\\n作方；任何员工也不得索 \\n取或者收受任何贿赂或不当\\n的礼 物\\n格利戈星航是海事反腐败\\n局中的一 员，主要针对港\\n口处的腐败行为 所有的事\\n件将报告给海事反腐局 及\\n及最终有关当局。\\nAll our vessels have clearly visible signs on board, communicating risk awareness and \\nour strict no-corruption policy in five languages.\\nGRI SO3\\n')\n",
            "\n",
            "(10, '10\\nCorporate Responsibility Report 2016\\nDoing business\\nWhat we do\\nGrieg Star is a fully integrated shipping company, and is part of the privately owned \\nGrieg Group, established in 1884. We transported approx. 11 million tons of cargo in \\n2016, of which 58% parcel and break-bulk cargo and 42% dry bulk cargo. In 2016 we \\nhad a loss of USD 7.6 million, with an equity of USD 444 million and liabilities of USD \\n630 million. Wood pulp and paper have been our most important cargo since our \\nbeginning in 1961. However, as the benefits of our specialised ships became evident, \\nother industries have also come to prefer our service.\\nOur specialised ships are built to meet our customers’ high quality requirements and \\nto deliver superior cargo care. Highly qualified seafarers, trained for our operations, \\nman the ships. A high return rate among the crew is emphasised to ensure familiarity \\nwith the ships and operational requirements.\\nGrieg Star focuses on long-term competence development both onboard and ashore. \\nIn-house ship management ensures safe and efficient operation. Safety and security \\nof employees, the environment, cargoes and ships have the highest priority.\\nHow we do it\\nGRI 2:2\\nGRI 2:6\\nGRI 2:7\\nGRI 2:8\\nVancouver\\nSquamish\\nSavannah\\nAtlanta\\nMobile\\nRio de Janeiro\\nLivorno\\nRo\\nBergen\\n')\n",
            "\n",
            "(11, '11\\nCorporate Responsibility Report 2016\\nGRI 2:3\\nGRI 2:4 \\nGRI 2:5\\notterdam\\nGothenburg\\nOslo\\nTokyo\\nSeoul\\nShanghai\\nManila\\nSingapore\\nWhere we are\\nOperating worldwide, we have offices in USA, Canada, Europe, Asia and South Amer-\\nica. Grieg Star headquarters is located in Bergen, Norway.\\nOur branch offices outside Norway are staffed with experienced commercial and op-\\nerational people who deal directly with customers and with the stowage, loading and \\ndischarging of the ships in direct contact with local stevedores, agents and vendors.\\nGrieg Star also owns Squamish Terminals in British Columbia, Canada.\\nHow we are organised\\nGrieg Star consists of several companies, based on tasks or geography. The main division is \\nbetween operating companies dealing with chartering, ship management, three ship owning \\ncompanies and the group’s holding company. Our branch offices are either subsidiaries of or \\ndepartments in the chartering company. Our manning office and support in Manila are also \\nseparate companies. In addition we own Grieg Green, a supplier of sustainable recycling of \\nvessels, offshore units, Inventory of Hazardous Materials (IHM) and related services. \\nGRI 2:3\\n')\n",
            "\n",
            "(12, '12\\nCorporate Responsibility Report 2016\\nSuppliers Code of conduct\\nMaking sure vessels are equipped and attended to with all the necessary supplies \\nand services at all times, is a complex task, involving suppliers across the world.\\nWith more than 370 suppliers, our main challenge is to influence them effectively. \\nGrieg Stars’ supplier code of conduct was established in 2008, and went through a \\ntotal revision in 2015, ensuring it is aligned with new expectations to businesses and \\nour own strategic approach to the supply chain. It represents an extension of our \\nvalues, ethical guidelines and ISO14001 requirements. Through this code Grieg Star \\nrequires our suppliers and contractors to observe high ethical, environmental and \\nsocial standards.\\nGrieg Star has a great number of suppliers and the inclusion of our Supplier Code \\nof Conduct is currently focused on suppliers to vessels, which accounts for approx-\\nimately 80% of our purchases.  We have developed a self-assessment checklist to \\naccompany the Supplier Code of Conduct. Suppliers are asked to fill in the self-as-\\nsessment form, and to provide Grieg Star with feedback on their overall performance \\nwithin all areas covered by the Supplier Code of Conduct. Human rights issues such \\nas child labour, forced labour, discrimination and freedom of association are included \\nin the assessment. The suppliers are also scrutinized whenever we performs a due \\ndiligence as part of our pre-qualification of supplier contracts.\\nNo frame agreement with suppliers to our vessels is concluded unless the Supplier \\nCode of Conduct and checklist are completed and agreed upon, or the supplier have \\nit’s own SSC. This is also standard practice within Incentra, a purchasing organisation \\nwhere Grieg Star is member.\\nHow we do it\\nGRI HR1\\nGRI HR2\\nGRI HR6\\nGRI HR7\\nRunning a ship demands a large quantity of consumables and spare parts.\\nGRI 4.16\\nGRI 4.16\\n')\n",
            "\n",
            "(13, '13\\nCorporate Responsibility Report 2016\\nOur vessels\\nFleet Composition\\nGrieg Star was in 2016 a fully integrated shipping company, focusing on two cate-\\ngories of vessels: Open Hatch general cargo carriers and conventional Bulk carriers. \\nWe operated a fleet of over 40 vessels transporting parcel cargo; break bulk and dry \\nbulk cargoes. \\nIn the period from 2012 to 2014 we took delivery of ten brand new Open Hatch \\nvessels, our L-class. These vessels are different from our older vessels by having four \\nslewing cranes instead of gantry cranes we have on our 20 other Open Hatch ves-\\nsels. The box-shaped holds, efficient cranes, dehumidification systems and state-of-\\nthe-art cargo equipment, enable loading and discharge of the cargo with minimum \\nhandling, ensuring safe stowage and minimum delays. Dehumidification systems \\nensure that the air quality in the holds is right for the various types of goods carried. \\nFurther, the vessels’ unobstructed deck, included tween decks, provides for excellent \\nstowage, and a safe and damage free ocean transit for various project cargoes. \\nOur conventional bulk department presently operates a modern fleet of about 10 \\nowned and chartered geared and grab-fitted ships ranging from 25,000 to 81,000 \\nDWT, combining contracts and tramping in worldwide trades. In 2015 we acquired \\ntwo brand new Eco-design Ultramax bulk carriers. \\nRecycling and Grieg Green\\nDuring 2016 we recycled two of our vessels. Keeping in line with our policy and the \\nIMO Hong Kong International Convention for the Sound Recycling of Ships (2009), \\nall were dismantled in a responsible manner: Environmentally verified and document-\\ned. Grieg Star will not use the beaching method, even if this is a far more profitable \\nway of dismantling old vessels. In 2010 Grieg Star started Grieg Green, a company \\nfocusing on providing a sustainable recycling process for old vessels. \\nThrough Grieg Green we promote and make it possible for other ship owners to \\nrecycle their vessels, offshore units etc. in a social and environmentally responsible \\nmanner through a fully documented process at certified ship-breaking yards.\\nGrieg Green handpicks from what they consider to be among the world’s top recy-\\ncling yards – by using their own “score-card” rating method. They follow up and ob-\\ntain reports from regular inspections. In addition the company offers Green Passport/\\nInventory of Hazardous Materials to vessel owners.\\nSTAR FUJI at the new  \\nEast Dock at Squamish \\nTerminals, BC. \\nGRI 4.12\\n')\n",
            "\n",
            "(14, '14\\nCorporate Responsibility Report 2016\\nWho we are\\nOur people\\nOur owners\\nGrieg Star is a family owned company, with the fifth generation Griegs as its owners: \\nElisabeth Grieg, Camilla Grieg, Per Grieg Jr. and Elna-Kathrine Grieg. Indirectly the \\nGrieg Foundation owns 25% of the shares. Per Grieg Sr. leads the foundation (for \\nmore on the foundation, see page 34). \\nTo secure a continuing sound family owned business, a program to ensure the \\nknowledge and commitment of the next generation has been implemented. The \\nNext Generation Program gathers the heirs of the four owners on a regular basis to \\neducate and prepare them for a future shift of generation.\\nOur employees\\nOur business success relies on the quality of our people and the work they all do. This \\nrequires highly specialized skills, dedication and a professional attitude combined with \\ncommercial awareness. Being able to build good relations with customers, business part-\\nners and colleagues is imperative for success.\\nHigh-level formal education constitutes the basis for any critical competence in Grieg \\nStar. All areas are manned with people educated at university level, spanning from \\nfinance, economy and law to engineers and social sciences. Today we have a good mix of \\nrecruits at post-graduate entry level and people with longer professional experience in \\naddition.\\nOther characteristics and personality traits are important above and beyond professional \\nproficiency. In general we always need a sufficient amount of people who have a pro-\\nfound understanding of the nature of our business and our processes, are able to inno-\\nvate and are open-minded in looking for new solutions, as well as curious and open for \\nchange.  \\nIn 2016 we had 257 employees in the shore organisation, of which 40% are females. 111 \\nare employed at the headquarters in Norway, while the rest are located at the branch \\noffices and our manning office in Manila. As a rule all staff are employed locally and hired \\non local terms. \\nThe personell turnover in Grieg Star in 2016 was 5,2% (6,4% in 2015). The turnover figure \\nis based on number of permanent employees who have voluntarily left the company, \\nexcluding retirees.\\nGRI 2:6\\nGRI 2.8\\nGRI LA1\\nGRI LA2\\nGRI SO1\\n \\n')\n",
            "\n",
            "(15, '15\\nCorporate Responsibility Report 2016\\nWe have a very competent workforce with long service in the company. 46% of the \\nworkforce has been in the company for more than 10 years. The age distribution \\nshows that we have a pool of talents with young people, and a group of people who \\nwill retire in the coming years, giving new opportunities for the young generation as \\npeople retire. \\nRelying solely on the Philippines as the source for seafaring personnel, all our seafar-\\ners are hired through our manning office in Manila or recruited as cadets. The man-\\nning office adheres to international ILO conventions as well as the Maritime Labour \\nConvention in all its practices that affect the seafarers. \\nThe seafarers are per agreement contractual workers, but we see a lot of advantag-\\nes by treating them as regular employees and strive to ensure a high retention rate. \\nShip officers have 6 months contracts, and receive stand by payment while on leave. \\nRatings apply for sailing periods of 9 months. All crew is voluntarily organized by \\ninternational seafarers´ associations, and consequently covered by collective bar-\\ngaining agreements and any other international rules and standards that apply.\\nWe do not employ any children in our operations, nor accept that our suppliers do so.\\nThe number of sailing personnel is approximately 650 at any given time, of which 13 \\nare female cadets or officers.\\nWe had 44 % females in the top management team in 2016. Among all managers \\n19,4% were female. The group’s Board of Directors currently consist of 60 % women \\nand 40 % men. \\nRetention rate\\n 2013\\n 2014\\n2015\\n2016\\n91,7%\\n84,6%\\n96,1%\\n96,2%\\n  40%    60%\\nAge distribution\\n36-57 yrs\\n57%\\n20-35 yrs\\n23%\\n58+ yrs\\n20%\\nYears of service\\n0-9 yrs\\n53%\\n10-19 yrs\\n26%\\n20+ yrs\\n20%\\nRetention of seafarers. Numbers \\nbefore 2014 is not fully comparable \\ndue to change in methodology\\nGRI 4.12\\nGRI LA2\\nGRI LA4\\nGRI LA5\\nGRI LA6\\nGRI LA9\\nGRI LT9\\nGRI LT16\\nGRI LT17\\nGRIHR5\\nGRI LA1\\nGender balance on shore\\n')\n",
            "\n",
            "(16, '16\\nCorporate Responsibility Report 2016\\nWho we are\\nTraining\\nIt is our aim to provide a working environment where our people will thrive and \\ndevelop by working together, and have the opportunity to combine formal educa-\\ntion, on-the-job training and new challenges. We offer our employees a wide range of \\nlearning opportunities, which includes both technical and non-technical skills train-\\ning. \\nManagers are responsible for identifying training needs together with their employ-\\nees through daily follow-up and annual employee dialogues. We make use of internal \\nand external classroom training covering a wide range of subjects, which our em-\\nployees are invited to attend as part of their development. In 2016 we started using \\ne-learning as a platform for self studies within a variety of topics.\\nNew employees go through a familiarization program with introduction to the compa-\\nny and the duties of their position. In addition employees visit a ship and terminal as \\npart of the introduction program to learn how the ships and terminals operate, as well \\nas meeting the crew. \\nAs an international organization, we see it as very valuable that our employees have \\nworking knowledge from our offices in the countries abroad or from the head office \\nin Norway. Our young talents are therefore encouraged to work abroad for shorter or \\nlonger periods of time as part of their career program. \\nAs part of the knowledge sharing, we also organize events where employees are \\ninvited to attend and take part in discussions on subject matters of interest. \\nWith respect to our seafarers, education and certificates are the basic formal re-\\nquirements. The high level of technological specialization onboard and the general \\ncomplexity of ship operations combined with regulatory requirements make the \\ndemands on competence levels of crew increase. Grieg Star follows the international \\nconvention called Standards of Training, Certification and Watchkeeping (STCW) \\nas well as other official requirements. In addition we have developed a set of tailor \\nmade courses and training programs in order to make sure that all the seafarers are \\nable to handle the equipment they meet onboard our vessels, as well as obtain com-\\npany specific skills.\\nCompetence development and training are vital to ensure operational and situa-\\ntional understanding and to build confidence. In 2016, 618 training participants were \\nrecorded, divided on 28 company-specific courses. Some courses are mandatory for \\nall seafarers, while others are specific to rank. This calculates into 1365 days spent on \\ncompany-specific training courses. \\nIn 2016, much focus has been on leadership, management, communication and team-\\nworking skills where 92 management level officers attended the Maritime Resource \\nManagement (MRM) training, a course specifically targeted on how to lead people \\nSTCW\\nStandards of training, Certification and Watchkeeping\\nGRI 4.12\\nGRI LA10\\n')\n",
            "\n",
            "(17, '17\\nCorporate Responsibility Report 2016\\nand manage resources better.  The remaining management level officers are expect-\\ned to take the training in 2017. They will be joined in by the operational level and \\npetty officers, and later, the rest of the ratings. MRM has also been extended to the \\nTechnical and Maritime Superintendents (now Vessel Managers) and Grieg Philip-\\npines and Grieg Star Philippines employees. Thirteen employees from Bergen and \\nfive (5) from Manila have taken the MRM in 2016. More shore employees are targeted \\nin 2017. The goal is to refresh our managers on best leadership and management \\npractices, put everyone involved in ship management on the same page and speak \\nthe same language, enhance ship-shore and onboard communication routines, \\nstrengthen the organizational safety culture, and eventually bring down the number \\naccidents and unwanted incidents closer to zero. \\nBefore going on board, all our seafarers have to complete the Pre Departure Orien-\\ntation Seminar  (PDOS) held in our offices in Manila. The seminar focuses on health, \\nsafety, security, discipline, procedures and regulations. Whenever appropriate this \\nincludes training, and prevention and risk-control regarding diseases.\\nAll vessels are conducting Safety Representative Working Environment Committee \\n(SRWEC) meetings once a month. The company requires all officers to attend the \\nNIS required SRWEC/PEC course.\\nThrough the SRWEC meetings the Shipboard Management has the opportunity for \\nto give information to the Officers and Crew and getting feedback and suggestions \\nin return. The SRWEC meetings are important forums where Officers and Crew can \\nfreely discuss and gain experience from each other. Areas like safety, security and \\nworking environment are in focus and we strongly believe that these meetings are \\nimportant for rising consciousness with regards to these topics. \\nThe HSSEQ department makes monthly summaries based on all vessels inputs/feed-\\nback from the SRWEC reports and all Improvement reports that has been received \\neach month. This is being distributed as experience transfer in our Quality Manage-\\nment Reporting System (QMRS).\\nOfficers’ workshop in the new premises of Grieg Philippines, February 2016\\nGRI 4.12\\nGRI 4.16\\nGRI LA8\\n')\n",
            "\n",
            "(18, '18\\nCorporate Responsibility Report 2016\\nWho we are\\nDeveloping competence from within\\nAcademic performance, good communication skills, personal suitability and dedica-\\ntion are essential in selecting our future seafarers. \\nIn preparation for the future need of officers, cadets have been selected every year \\nthrough the Norwegian Shipowners’ Association’s (NSA) Philippines Cadet Program. \\nGrieg Star, together with the NSA Philippines Cadet Program, interviews and selects \\nthe students before they begin their education at one of the leading maritime uni-\\nversities in the Philippines. For the past years, we have had at any given time about \\n100 cadets in our system. We also source cadets from our own seafarers, where the \\nchildren or siblings of our sailing personnel, can apply for seagoing service in order \\nto earn their certificates as licensed officers.  \\nOne of the most important aspects to evaluate is the cadets’ ability to communicate. \\nFurther, we consider the ability to adapt to a life at sea, as well as inquiring about \\nthe cadets’ adaptability to teamwork versus individual work. It is also essential to \\nevaluate the candidate’s level of realistic ambition and determination, in addition to \\nthe person’s physique as much of the work onboard can be physically challenging. \\nTo ensure harmonious relations onboard, it is also important that the candidates we \\nchoose to embark on a journey with are from provinces all over the Philippines, to \\nensure a geographical spread of our seafarers onboard. \\nThe first years in the company are of great significance to obtain a good under-\\nstanding of the company culture and operational procedures. An open dialogue to \\ndiscuss the development of the cadets and the career path ahead of them is import-\\nant to continuously evaluate the progress made. \\nThe Grieg Star Cadets at UCML in Cebu, Philippines, February 2016\\nGRI 4.13\\n')\n",
            "\n",
            "(19, '19\\nCorporate Responsibility Report 2016\\nGender and ethnicity equality \\nGrieg Star does not accept discrimination in any form. This ensures all employees \\nthe same opportunities to personal and professional development, irrespective of \\ngender, age, ethnical background, nationality or age. Discrimination shall be non- \\nexistent when it comes to recruitment, advancement and  \\nremuneration. Our aim is to give all employees the possibility to reach their potential \\nwhile increasing Grieg Star´s competitive edge and value creation. \\nWe had no reports of any kind of discrimination in 2016.\\nHealth\\nGrieg Star maintains an overview of sick leave in accordance with current laws and \\nregulations. In 2016 the general sick leave for the global on-shore organization was 3 %, \\nincluding long and short term absence. Working environment committees oversees the \\ncompany’s work on health and safety.\\nSick leave is reported and followed up on a continuous basis by the managers in \\ncooperation with the employee and Human Resources Department. \\nSafety and health video \\nIN 2015 Grieg Star took part of an industry-initiated survey, organized by Marine \\nBenefits, called Project Re:fresh, focusing on the health and well-being of Filipino \\nseafarers, in the areas of physical, psychological, social and spiritual well-being. \\nTo follow up this, and highlight safety procedures on board, an animated video was \\nproduced in 2016, and is now running non stop at our crewing agency’s office in \\nManila. The video is also used on board our vessels for new seafarers and visitors. \\nThe slogan of the video is “Work with safety - come home safely”. Posters stating the \\nsame is in process of being produced, and will be placed in common areas on board \\nour vessels.\\nGRI 4.16\\nGRI LA7 \\nGRI LA6\\nGRI 4.17\\nGRI LA8\\nGRI HR4\\nSafety poster \\nbased on the \\nnew safety \\nvideo.\\n')\n",
            "\n",
            "(20, '20\\nCorporate Responsibility Report 2016\\nWho we are\\nSafety\\nThe safety on our vessels is of our uttermost concern, and we have an ongoing focus \\non preparing our seafarers as well as stevedores and visitors. \\nThis focus has given results, reducing injuries compared to previous years. The most \\nobjective measure of this is the Loss Time Injury Frequency (LTIF), which measures \\nthe number of hours a seafarer is unable to work due to injuries. Our LTIF went up in \\n2016, resulting in new measures being implemented to avoid further increases. \\nAs in the four previous years, we had no fatal accidents in 2016. \\nStill accidents do happen, and we repatriated three seafarers \\ndue to injuries after accidents, and 14 seafarers were sent home \\nbecause of illness. \\nSometimes incidents happen without resulting in injuries. We record these as well, \\ndefined as Near Misses. In 2016 the number of Near Miss Reports was lower than \\nthe year before, but still high. This is partly because of our focus on encouraging \\nthe crew to report. These reports make it easier for us to evaluate our procedures to \\nprevent dangerous situations in the future. \\nPort State Control\\nPort State Control (PSC) is the inspection of ships in ports by PSC inspectors to \\ncontrol and verify that the competency of the master and officers on board, and the \\ncondition of the ship and its equipment comply with the requirements of internation-\\nal conventions, and further that the vessel is manned and operated in compliance \\nwith applicable international law.\\nDuring 2016 Grieg Star had 115 Port State Controls on 34 ships, showing on average \\n0.8 deficiencies per inspection. This is up from 0.78 in 2015. \\nWe had one Port State Control Inspection in 2016 which resulted in a detention. The \\ndeficiencies were dealt with immediately, and the shore and onboard management \\nanalyzed the deficiencies for preventive measure and fleet experience transfer.\\nLTIF\\n2013\\n 2014\\n 2015\\n2016\\n2.17\\n2.80\\n1.46\\n2.44\\nRepatriation due to accident/illness\\n 2013\\n 2014\\n2015\\n2016\\nAcc.\\nIll.\\nAcc.\\nIll.\\nAcc.\\nIll.\\nAcc.\\nIll.\\n3\\n12\\n6\\n9\\n2\\n10\\n3\\n14\\nTotal Near \\nMiss reports\\n 2013\\n 2014\\n2015\\n2016\\n82\\n96\\n192\\n144\\nGRI LT13\\nGRI LA7\\n')\n",
            "\n",
            "(21, '21\\nCorporate Responsibility Report 2016\\nRightship\\nGrieg Star is a member of Rightship (www.rightship.com), who performs Risk- and \\nEnvironmental Rating. Rightship inspects our vessels, and report and grade our qual-\\nity based on their findings. In 2016 Rightship changed their \\nrating system, making the numbers for 2016 not possible \\nto compare with previous ratings.\\nThe fleet average Environmental Rating improved from 3,5 \\nin 2015 to 3,9 in 2016. In addition, our affiliation with ESI \\n(Environmental Ship Index) has contributed to the growth \\nin the Rightship system for our L-class and K-class. The \\nnewer tonnage scores higher on the ranking due to newer \\ntechnology.\\nUSCG Qualship 21\\nThe Norwegian Flag Administration (NMA) is at present not in compliance with  \\nthe USCG Qualship criteria. The QUALSHIP 21 program require that any flag state \\nhave a detention ratio less than 1.0% over a 3 years rolling period. The NOR/NIS \\nfleet had a 3 years average detention rate of 1,09% which disqualified NIS vessels to \\napply for Qualship21 renewal until flag state improves the detention ratio. Marshall \\nIsland Flagged Vessels met the QUALSHIP21 requirements and therefore qualified to \\napply for renewal. However, all our vessels that have valid Qualship21 certificate are \\nenrolled in the program as long as the certificate is valid.\\nRisk ranking\\n 2013\\n 2014\\n2015\\n2016\\n4.91\\n5.00\\n4.91\\n4.1\\nEnvironment ranking\\n 2013\\n 2014\\n2015\\n2016\\n2.4\\n3.5\\n3.5\\n3.9\\nStar Harmonia is among our high Rightship ranking vessels.\\nGRI 4.12\\nGRI 4.13\\nGRI 4.12\\nThe rightship scale spands \\nfrom 0 to 5, where 5 is top \\nscore.\\n')\n",
            "\n",
            "(22, '22\\nCorporate Responsibility Report 2016\\nWho we are\\nHow we communicate\\nGood communications is necessary to be able to run a sustainable, responsible and \\nprofitable company. Over the years Grieg Star has invested in several solutions to \\nensure good communications internally and externally. \\nExternal communication systems\\nBeside active usage of web site and social media, Grieg Star used several digital \\nservices to interact with our customers, agents and other stakeholders. StarPort, \\nTMS and SIMS are some of these. Through these systems we improve efficiency and \\naccuracy, and reduce the amount of paper consumed and sent.\\nInternal communication systems\\nOur main service for internal communication is the intranet 130+ and the combined \\nintranet and online portals Crewnet and Vesselnet. All systems provide extensive \\ninformation and access to a wide variety of systems, reports and tools important in \\nday-to-day operations. Our own IT department continuously develop these and new \\nsystems according to need.\\nOur Open Meetings for our employees are held in Bergen four times a year. From \\n2015 these meetings are filmed and shared with all employees world wide, to ensure \\nthe same information is shared all over the organisation. In 2016 two of these were in \\naddition streamed live. The annual Grieg Review, and open meeting for all employees \\nin the Grieg Group is streamed live as well as made available for later viewing.\\nThe Grieg Review, an open meeting for all Grieg Group employees, are streamed live \\nover the Internet to all our employees world wide. \\n')\n",
            "\n",
            "(23, '23\\nCorporate Responsibility Report 2016\\nQMRS\\nOur new Quality Management Reporting Sys-\\ntem (QMRS) was put into force January 1st 2015. \\nThrough this we are able to report and capture vital \\ninformation regarding safety, quality and environ-\\nmental matters. \\nVideo conferencing\\nWith offices in 15 different countries as well as over \\n30 owned vessels, good solutions for talking to \\neach other are vital. We have started to work on \\nincreasing the usage of electronic communication \\nchannels like Skype, Facetime and Viber. In addition \\nto improving the quality of day-to-day communica-\\ntion our goal is also to reduce travel cost and CO2 \\nfootprint, as well as bothersome travel. \\nOn board internet access\\nFor most seafarers, contact with family and loved ones at home is one of the most \\nimportant welfare concerns.  \\nTo ensure such contact, all our ships are equipped with a system that gives our \\nseafarers access to personal e-mail, unlimited SMS text messaging, social networking \\nand browsing the Internet. In 2016 we started a test to increase the bandwidth on \\nboard our vessels, with a goal to implement new systems onboard in 2017.\\nCrew magazine\\nDue to low bandwidth some places at sea, it is not always simple for our crew on-\\nboard to access our digital solutions. We therefore publish an electronic magazine for \\nour seafarers, providing important news on the company, business and situation at \\nhome when needed. This magazine is made available on the crew computers on-\\nboard. \\nMobility\\nTo ensure flexibility, most land based employees are equipped with lap tops and \\nmobile phones. This makes it possible for them to work from outside the office if \\nneeded, either for private or business reasons. They have access to all the same sys-\\ntems and communication channels when outside the office by using virtual private \\nnetworks (VPN).\\nCrew\\nGrieg Star Magazine ı January 12th 2016 ı No 4\\nCelebration\\nSix pages of snap-\\nshots from onboard\\nLive \\nhealthy\\nAMOS merging\\nColleagues \\nhonoured\\nThe \\nCST year\\nPoject almost finished\\nCrew\\nGrieg Star Magazine ı October 28th 2015 ı No 1\\nJannicke \\nSteen\\n- the new GM of \\nGrieg Star Philippines\\nPopular \\nseals\\nImportant \\non family \\nvisits\\nStar Eos on \\nher maiden \\nvoyage\\nSnapshots\\nPictures from \\nonboard and on shore\\nCrew\\nGrieg Star Magazine ı December 18th 2015 ı No 3\\nThe perks\\nA cadet on why she \\nmiss being onboard\\nPhoto contest\\nNew partners\\nOur CEO \\nsums up 2015\\nEnergy research\\nGrieg Star VP to head \\nnew research partnership\\nBertling and Grieg Star to work together\\nCrew magazine\\nGRI LT10\\nGRI LT10\\n')\n",
            "\n",
            "(24, '24\\nCorporate Responsibility Report 2016\\nOur responsibility\\nEnvironment\\nGrieg Star envisions a future where we have no harmful emissions to air, sea and \\nland. The path to this future is long, but we are committed to walk the talk.\\nShipping – which transports about 90% of global goods – is, statistically, the least \\nenvironmentally damaging mode of transport, taking its productive value into con-\\nsideration. Still, the emissions of greenhouse gases (GHG) from the shipping industry \\nconstitutes about 2,5% of global emissions, and shipping emissions are by some pre-\\ndicted to increase between 50% and 250% by 2050 depending on future economic \\nand energy developments. \\nWe take this problem seriously, and work towards reducing the emissions from our \\noperations significantly in the years to come. Our vision is to ultimately have no \\nharmful emissions to air, sea and land. It is important to stress that this is not a zero \\nemission vision. A zero emission scenario is not technically possible in the foresee-\\nable future. The world will rely on use of hydrocarbons for years to come, but the \\nlevel of such usage is possible to lower. Our vision is to not harm the environment in \\nany way in the conduct of our business.\\nRegardless of our strategy and goals, national and international agreements and \\nregulations on environmental issues will be amended and set in force in the years to \\ncome. Our goal is to be in accordance with or exceed such regulations before their \\nimplementation dates.\\n')\n",
            "\n",
            "(25, '25\\nCorporate Responsibility Report 2016\\nEmissions to air\\nCarbon dioxide (CO2)\\nWhen a vessel is burning one ton of fuel, approximately three tons of CO2 is released, \\ndue to the chemical reaction of burning. For Grieg Star it is important to reduce the \\nfuel usage of our ships. In 2016 we burned 170,489 tons of fuel, emitting 532,987 \\ntons of CO2. Over the years we have implemented several measures to ensure such \\nreductions, both technical and operational. What we have done is illustrated at pages \\n28 and 29. \\nEven if the 1997 Kyoto Protocol uses 1990 as a base year for CO2 emissions, we are \\nnot able to use the same. Our knowledge of our emissions expressed by EEOI (Ener-\\ngy Efficiency Operational Indicator) for 1990 is simply not available. We do, however, \\nhave good data from 2007 onwards, and have so far used this as our base year. We \\nhave valid reasons to assume that our emissions in the years from 1990 to 2007 did \\nnot grow. In that period our fleet changed dramatically in size, and engine and pro-\\npeller technology as well as ship designs in general improved. We therefore assume \\nthat our 2007-levels are comparable or better than the world 1990-levels. Our goals \\nshould therefore be comparable or better than those of the various national and \\ninternational governments and organisations.\\nFrom 2007 to 2015, we reduced the EEOI by 19%. As the index is based on emissions \\nper transported cargo weight, we saw a worsening of the numbers in 2016. The low \\ngeneral market, and the fact that we transported more leigh weight, but volume \\nintense cargo, saw our EEOI return to our numbers in 2008. \\nGRI EN3\\nGRI EN16\\nGRI EN18\\nGRI EN5\\n2007-2020\\n-35%\\n2020-2030\\n-10%\\n2030-2050\\n-10%?\\nCO2\\nRemaining in 2050\\n45%?\\n')\n",
            "\n",
            "(26, '26\\nCorporate Responsibility Report 2016\\nOur responsibility\\nSulphur Oxide (SOx)\\nThe emissions of SOx are not a danger to the climate, but have potentially serious \\neffects on the environment locally or regionally, causing health issues for people, \\nanimals and vegetation. \\nThe emissions of SOx from our vessels are directly related \\nto the amount of sulphur in the fuel we burn. Many coastal \\nareas in the world are now implementing Emission Control \\nAreas (ECAs) where fuel burned may not contain more \\nthan 0,1% sulphur. Grieg Star welcomes these initiatives, \\nand follows the regulations strictly. Our goal is to always comply with or exceed the \\nECA regulations.\\nTo further reduce our emissions of SOx, we work on several measures to reduce the \\namount of fuel burnt, e.g. a project trying to use battery technology on our cranes to \\nreduce engine usage when at port.\\nNitrogen Oxides (NOx)\\nIn small amounts nitrogen oxides (NOx) can act as nu-\\ntrients for plants. High levels, however, are damaging to \\nplant life. Excessive exposure to NOx may have serious \\nhealth effects in humans and animals. NOx also contrib-\\nute to global warming. \\nInternational regulations on NOx are progressively more stringent, demanding \\nengines built in 2016 or later to emit no more than 20% of the levels in 2010. Among \\nthe measures we have implemented in this regard is installing sliding fuel valves on \\nall our vessels built after 1987. Our goal is to reduce NOx by 35% by this measure \\nalone. The battery project will also reduce such emissions while the ships alongside \\nin port.\\nParticulate matter\\nSolid or liquid particles from unburnt matter are always emitted from combustion \\nprocesses. The biggest particles are what humans see as smoke. Some of these \\nparticles may have negative health effects, especially in the lungs. Particulate mat-\\nter has also the potential to modify the climate through the formation of clouds and \\nsnow. Particles also contribute to acid deposition and may absorb solar radiation and \\nimpair/reduce visibility. Our work on reducing fuel consumption and run our engines \\nin the best possible way, reduces emission of such particles. \\nSOx emissions\\n 2013\\n 2014\\n2015\\n2016\\n3,904\\n3,557\\n3,465\\n3,870\\ntons emitted\\nNOx emissions\\n 2013\\n 2014\\n2015\\n2016\\n16,445\\n15,702\\n15,551\\n15,959\\ntons emitted\\nGRI EN20\\nGRI EN18\\nGRI EN20\\n')\n",
            "\n",
            "(27, '27\\nCorporate Responsibility Report 2016\\nEmissions to water\\nOur vessels travel from one place on the earth to another all the time. This makes it \\na possibility for us to take with us organisms from one ocean to another. The or-\\nganisms may be brought there through our ballast water system or attached to our \\nvessels’ hull. Such non-indigenous organisms may have harmful effects on the eco \\nsystem in which they are brought into. International bodies work hard to reduce such \\ntransferral of organisms from one area of the earth to another, and several regu-\\nlations are or will be set in force. The International Convention for the Control and \\nManagement of Ships’ Ballast Water and Sediments (BWM Convention) was adopted \\nby consensus at a Diplomatic Conference held at IMO Headquarters in London on \\n13 February 2004. The convention was been ratified in 2016, and is planned to enter \\ninto force in 2017, even if there are some uncertainties connected to it. \\nWe have started installing the necessary equipment on our vessels, and aim to be in \\ncompliance in due time.\\nConsumed fresh water is generally produced onboard or purchased where required.\\nEstimated grey water per crew is 200 litres per day, approximately 50,000 litres per \\nyear.\\nOil spill\\nGrieg Star had no oil spills in 2016. \\nEmissions to land\\nAs for most businesses our operations create waste. We have, however, good rou-\\ntines for handling such waste in a sustainable manner. All waste onboard our ships is \\neither incinerated in special ovens onboard, or brought to land for proper handling. \\nDunnage is properly sorted and recycled while in port. We do not use disposable \\ndunnage bags, but repair and reuse the bags to reduce waste.\\nOur offices all have proper waste handling, making sure we send the waste for recy-\\ncling whenever this is possible.\\nGRI EN8\\nGRI EN21\\nGRI EN12\\nGRI EN22\\nGRI EN23\\n')\n",
            "\n",
            "(29, '29\\nCorporate Responsibility Report 2016\\nEnvironmental measures \\non our vessels\\nCooling agent changed \\nfrom Freon to R-417 \\nin order to reduce CFC \\nemissions.\\nL-class cranes uses \\n35% less power than \\nconventional cranes.\\nSoap dispensers \\nfor washing machines. \\nEstimated annual \\nreduction of 7 tonnes \\nsoap for the fleet.\\nRoughness measurement \\nof hull for better \\nantifouling decisions.\\nBallast water treatment\\nsystems for selected new \\nvessels.\\nWaste water from \\ncleaning storage tanks \\ninstalled on most vessels. \\nContaminated water is \\nhandled on shore.\\nTesting state-of-the-art \\nAntifouling systems\\nSand blasting of hull \\nduring dockings to better  \\nroughness\\nBildge water \\nequipment upgraded to \\nfilter everything down to \\n5 ppm. Regulations say \\n15 ppm.\\nNo aft trusters on \\nL-class to be able to \\noptimalize hull to reduce \\nenergy consumption. \\nBilge systems upgraded \\non all vessels\\nEngine\\nHull\\nNavigation\\nVessel general/Accomodation\\n')\n",
            "\n",
            "(30, '30\\nCorporate Responsibility Report 2016\\nOur responsibility\\nInventory of Hazardous Materials (IHM)\\nThe IMO Guidelines on Ship Recycling of 2009 introduced the IHM for ships. It was \\nenvisaged that this document, containing an inventory of all materials used in the \\nconstruction of a ship that are potentially hazardous to human health or the environ-\\nment, would accompany the ship throughout its working life. \\nAll vessels in our fleet have the IHM/Green Passport. Changes of materials onboard \\nlisted on the inventory are registered in our Planned Maintenance System (PMS) \\nsystem. The IHM has recently been used when recycling ships, whereby hazardous \\nmaterials have been located and handled as specified in “Appendix 3, part 2, of the \\nIMO Guidelines on ship recycling”.\\nUN Global Compact\\nThe UN Global Compact is a strategic policy initiative for companies dedicated to \\nsustainable business development.\\nGrieg Star Group committed to the ten principles of the UN Global Compact in 2008, \\nand strives to implement these principles in our strategies and operative work. It is \\nimperative that these principles become embedded in the way we conduct our busi-\\nness and thus our corporate culture. We promote and use our influence to voice UN \\nGlobal Compact’s principles and ideas, and report on progress by applying the Global \\nReporting Initiative as our reporting standard.\\nTrident Alliance\\nThe Trident Alliance is a coalition of shipping owners and op-\\nerators who share a common interest in robust enforcement of \\nmaritime sulphur regulations and are willing to collaborate to \\nhelp bring it about. The strengths and attributes of the different \\nmembers and partners will be used to drive the various strate-\\ngies identified to improve enforcement. \\nGrieg Star is a member of the Trident alliance.\\nThe threat of weak enforcement of sulphur regulations is escalating. Responsible \\nindustry is taking the initiative to mitigate this threat, in interest of the environment \\nand human health, as well as creating a level playing field for business. By speaking \\nwith a united voice we have the greatest chance to bring about change.\\nGRI 10:2\\nGRI 4.12\\nGRI 4.12\\nGRI 4.13\\n')\n",
            "\n",
            "(31, '31\\nCorporate Responsibility Report 2016\\nISO 14001:2004\\nGrieg Star is ISO 14001:2004 certified. ISO 14001:2004 sets out the criteria for our \\nenvironmental management system and maps out a framework that we follow to set \\nup an effective environmental management system. \\nDuring 2016 we have had internal audits as well as external intermediate and renew-\\nal audits carried out by DNV-GL or BV to ensure that our systems are in accordance \\nwith the framework of ISO 14001:2004 and the ISM and ISPS codes. Non-Confor-\\nmities are entered into our QMRS and changes to procedures resulting from these \\naudits are implemented through our Quality Management System (QMS).\\nEcovadis\\nThere are many ways of showing how sustainable a business is. We have decided to \\nwork with EcoVadis to measure how we do. EcoVadis operates a collaborative plat-\\nform providing Supplier Sustainability Ratings \\nfor global supply chains. \\nOur EcoVadis score in 2016 was 48, up by 10 \\npoints from 2015 and up 20 points from our \\nstart in 2014. The average in our business was \\n42.6 points in 2016. We still have work to do to \\ndocument our sustainable business practices, \\nand aim to score even better.\\nEnvironment\\n70\\nLabor Pratices\\n40\\nFair Business Practices\\n50\\nSustainable Procurement\\n30\\nEcovadis score\\nISO\\n14001:2004\\ncertified\\nEvery 15 minutes our vessels automatically send us vital information. These are analysed \\nby our employees to make it possible for us to better our environmental performance.\\nGRI 4.12\\n')\n",
            "\n",
            "(32, '32\\nCorporate Responsibility Report 2016\\nOur responsibility\\nGrieg Foundation\\nThe Grieg Foundation owns 25% of the shares in Grieg Group, \\nbut holds no voting rights. The money gained by the ownership \\nis donated to benevolent projects all over the world. In 2016, the \\nGrieg Foundation donated 29 million Norwegian kroners (ap-\\nprox. USD 3.4 million). Half of the funds goes to projects tar-\\ngeting children and youth. This map show some of the projects, \\nmarked with ligh blue. \\nPestalozzi: Education \\nfor academically giftet \\nyouths with limitied edu-\\ncational prospects in their \\nhome country.\\nCARF: The Kolibri \\nProject is engaged in \\nwork among children \\nand young people at risk \\nat favela areas in Sao \\nPaulo, Brazil. \\nStine Sofies Stiftelse: \\nThis Norwegian foun-\\ndation fight for abused \\nchildren’s rights. \\nRon Anderson \\nMemorial Schol-\\narship Fund: schol-\\narship to the local high \\nschool for those entering \\nuniversity in business, \\ntransportation or \\nengineering\\nPort as a \\nclassroom:  \\nSeafarers from several \\nof our vessels visited \\nmiddle schools and \\nstudent visisted ships \\nto learn about the \\nbusiness.\\nMNOK \\n0.3,8\\nMNOK \\n2,6\\nMNOK \\n2\\nSquamish  \\nTerminals Youth & \\nEnvironment Fund: A \\npermanent community \\nfoundation endowment \\nfund supporting local \\nprojects.\\nHerring Habitat \\nRestoration:  \\nA partnership with \\nStreamkeepers to  \\nenhance herring habitat \\n(underneath Squamish \\nTerminals’ docks)\\nThe Postmedia \\nRaise-a-Reader  \\ncampaign exists to \\nempower today’s children \\nand families with tools to \\nimprove their reading \\nskills.\\nCAD \\n2,000\\nCAD \\n1,000\\n')\n",
            "\n",
            "(33, '33\\nCorporate Responsibility Report 2016\\nCARE: Grieg Foundation \\nsponsors CAREs work \\nfor gender equality world \\nwide. \\nHaukeland University \\nHospital: medical research \\nand trials.\\nSOS Childrens Villages: \\nWork for gender equality \\npolicy among 134 SOS \\nmember countries\\nSahara Forest Project: A \\nresearch project trying to \\nregreen the desert.\\nLocal contributions\\nEvery year our different offices and employees \\ncontribute in small and big ways to their local \\ncommunity, to all kind of charity causes. Some of \\nthem are found on the map, market with purple.\\nMNOK \\n2\\nMNOK \\n2,9\\nMNOK \\n0.5\\nMNOK \\n6\\nMPHP\\n0.2\\nKlasum ng Pagasa:\\nAn organization which \\nbuilds schools in remote \\nareas in the Phillippines. \\nGRI EC8\\nMany of our employ-\\nees donate monthly to \\nthe operations of a home \\nin the SOS Childrens \\nVillages in Cebu.\\nRed Cross: Support for \\ntheir work to help children \\nrefugees world wide\\nMNOK \\n0.1\\n')\n",
            "\n",
            "(34, '34\\nCorporate Responsibility Report 2016\\nOur history\\nYear\\n1884\\nJoachim Grieg sets up his shipbroker business in Bergen, Norway\\n1959\\nPer Waaler establishes AS Star Shipping November 24th, but the company is not \\nformally registered until April 11th 1961\\n1962\\nIn November the Star Pool come into effect, formalized February 5th 1963. Star Ship-\\nping and Westfal-Larsen & co agree to make vessels available for a joint shipping \\noperation.\\n1963\\nStar Shipping’s first subsidiary is established in Sydney, Australia. The year after an \\noffice is established in New York, and in 1966 in Vancouver. Our global presence is \\nstarting.\\n1964\\nThe Star Pool agreement is even more formalized, as Star Bulk Shipping Company \\nis formed on September 18th, with Westfal-Larsen & co and Star Shipping as equal \\nowners. \\n1965\\nThe first ships are equipped with gantry cranes to secure more accurate stowage \\nand larger output per hour. The gantry cranes stay on as preferred cranes on the \\nStar vessels until the L-class is acquired in 2012.\\n1965\\nThe company’s first long time cargo contract is signed: packaged lumber from Brit-\\nish Columbia to Australia. Further contracts are to be signed the following year. Our \\nfocus on long term relationships with customers starts in earnest.\\n1965\\nIn a Board meeting in Star Bulk Shipping on September 13th, it is decided to order \\nthree Open Hatch vessels, the first in the Star system. Since then the Open Hatch \\nvessels have been the backbone of the Star fleet.\\n1970\\nFred Olsen & co closes down their Fred Olsen Line and enters as a 30% owner of \\nStar Bulk Shipping alongside Per Waaler/Per Grieg controlled Billabong and West-\\nfall-Larsen & co.\\n1971\\nStar decides to invest in Squamish Terminals in British Columbia, and three years \\nlater Star is sole owner. To this day Grieg Star is the proud owner of Squamish Termi-\\nnals.\\n1972\\nTo reflect that Star has advanced from being a bulk transporter, the name of the \\ncompany changes to Star Shipping. At the same time the name and common iden-\\ntity is approved, giving all the vessels Star names and yellow funnels with the star \\nflag – a tradition we have carried on ever since.\\n1973\\nStar Shipping enters into a pool with greek shipping company Rethymnis and Kulu-\\nkundis and establishes Conventional Bulk-Carriers Division (CBCD). The partnership \\nsecures a growth in CBCD from 2 million tons cargo shipped in 1972 to 12 million tons \\nin 2000.\\n1988\\nFred Olsen & Co sell their shares in Star, and the original partners are left alone as \\nowners in a 50/50 split.\\n1995\\nWestfal-Larsen & Co decide to sell their Star vessels to a new company formed by \\nthe Westfal-Larsen brothers in Singapore: Masterbulk. Masterbulk take over the \\nWestfal-Larsen position in Star Shipping.\\n2001\\nThe last of the 3rd generation owners and gründers retire. Per Grieg retires at an age \\nof 70, leaving his place on the board to his daughter Camilla Grieg.\\n2008\\nThe Star organisation and business is split. Grieg continues to operate a slimmer Star \\nShipping, while Masterbulk set up their own organisation. Star Shipping is integrated \\nas a part of Grieg Star, moving its Headquarters to Grieg Gaarden in Bergen.\\n2010\\nGrieg Star establishes Grieg Green, a company focusing on sustainable recycling of \\nships.\\n2012\\nOne of the biggest new building programs start. Grieg Star orders 10 identical Open \\nHatch vessels, leaving the gantry crane for the first time since 1965.\\n2016\\nInitiated talks with Gearbulk to establish G2 Ocean. The joint Venture went live May \\n1st 2017.\\n')\n",
            "\n",
            "(36, '36\\nCorporate Responsibility Report 2016\\nGRI Standard \\nDisclosure \\nindicators\\nDescription of the Indicator\\nPage/References\\nStrategy and Analysis\\n1.1\\nStatement from the most senior decision maker of the organiza-\\ntion\\nPage 3 and Grieg Star Annual Report 2016 (AR16)\\n1.2\\nDescription of key impacts, risks, and opportunities. \\nPages 3 and 7, AR16\\nOrganizational Profile\\n2.1\\nName of the organization\\nGrieg Star\\n2.2\\nPrimary brands, products, and/or services\\nPage 10\\n2.3\\nOperational structure of the organisation\\nPage 10\\n2.4\\nLocation of organization’s headquarters\\nPage 10\\n2.5\\nCountries where the organization operates \\nPages 10, 11\\n2.6\\nNature of ownership and legal form\\nPages 10, 14\\n2.7\\nMarkets served \\nPage 10\\n2.8\\nScale of the reporting organisation\\nPages  10, 14, AR16\\n2.9\\nSignificant changes in size, structure, or ownership\\nNone\\n2.10\\nAwards received in the reporting period\\nPage 32\\nReport Parameters\\n3.1\\nReporting period \\n2016\\n3.2\\nDate of most recent previous report (if any) \\nMarch 2015\\n3.3\\nReporting cycle (annual, biennial, etc.)\\nAnnual\\n3.4\\nContact point for questions regarding the report or its content\\nSenior Vice President Ole Steinar Mjell\\n3.5\\nProcess for defining report content\\nInvolvement of relevant departments\\n3.6\\nBoundary of the report (e.g., countries, divisions, subsidiaries, etc). \\nAll subsidiaries, divisions and countries \\nincluded.\\n3.7\\nLimitations on the scope of boundary of the report\\nGRI reporting does not include Product Respon-\\nsibility. Customer related indicators are not \\nmeasured per today and other indicators are \\nirrelevant.\\n3.8\\nBasis for reporting on joint ventures, subsidiaries etc \\nRefer to accounting principles in AR16\\n3.9\\nData measurements techniques \\nRefer to accounting principles in AR16\\n3.10\\nEffect of any re-statements of information \\nNone\\n3.11\\nChanges in the scope, boundary, or measurement methods \\nNone\\n3.12\\nGRI Index table \\nPages 36-39\\n3.13\\nExternal assurance for the report\\nFinancial reporting only. Other parameters are \\nself declared.\\nGovernance, Commitments and Engagement\\n4.1\\nGovernance structure of the organisation\\nPage 6\\n4.2\\nWhether the Chair of the highest governance body is also an \\nexecutive officer \\nPage 6\\n4.3\\nFor unitary board structure, state the number of members of the \\nhighest governance body that are independent and/or non-execu-\\ntive members.\\nPage 6\\n4.4\\nMechanisms for shareholders and employees to provide recommen-\\ndations or direction to the highest governance body. \\nPage 6\\n4.5\\nCompensation for the highest governance body, senior managers, \\nand executives \\nAR16\\nGlobal Reporting Initiative\\n')\n",
            "\n",
            "(37, '37\\nCorporate Responsibility Report 2016\\n4.6\\nProcesses in place for the highest governance body to ensure \\nconflicts of interest are avoided\\nPage 6\\n4.7\\nProcess for determining the qualifications and expertise of the \\nmembers of the highest governance body \\nPage 6\\n4.8\\nInternally developed statements of mission or values, codes of \\nconduct, and principles \\nPage 8\\n4. 9\\nProcedures of the highest governance body for overseeing the \\norganization\\nPage 6\\n4.10\\nProcesses for evaluating the highest governance body’s own \\nperformance\\nInternal audit and self assessment\\n4.11\\nWhether and how the precautionary approach or principles is \\naddressed by the organisation\\nPage 7\\n4.12\\nExternally developed charters, principles, or other initiatives to \\nwhich the organisation subscribes or endorses\\nPages 9, 13, 16, 17, 21, 30, 31\\n4.13\\nMemberships in associations and/or national/international advo-\\ncacy organisations \\nPages 9, 18, 21, 30\\n4.14\\nList of stakeholder groups engaged by the organization\\nEmployees, suppliers, environment, local \\ncommunity\\n4.15\\nBasis for identification and selection of stakeholders with whom \\nto engage\\nStrategic decision to target some key stake-\\nholders actively.\\n4.16\\nApproaches to stakeholder engagement\\nPages 12, 17, 19\\n4.17\\nKey topics and concerns that have been raised through stakehold-\\ner engagement\\nHealth & safety , competence development on \\nenvironmental issues. Co-operation with WWF \\nNorway, NSA and other shipping companies \\nto increase energy efficiency. International \\nanti-corruption network for shipping industry, \\nthe Maritime Anti-Corruption Network.\\nECONOMIC PERFORMANCE INDICATORS\\nManagement Approach\\nEC1\\nDirect economic value generated and distributed\\nAR16\\nEC2\\nFinancial implications and other risks and opportunities due to \\nclimate change.\\nPage 3, AR16\\nEC3\\nCoverage of the organization’s defined benefit plan obligations.\\nAR16\\nEC4\\nSignificant financial assistance received from government.\\nAR16\\nEC6\\nSpending on locally-based suppliers at significant location of \\noperation. \\nNot reported\\nEC7\\nProcedures for local hiring proportion of senior management \\nAR16\\nEC8\\nInfrastructure investments and services provided primarily for \\npublic benefit  \\nPages 32, 33, AR16\\nENVIRONMENTAL PERFORMANCE INDICATORS\\nManagement Approach\\nEN1\\nMaterials used by weight or volume\\nNA\\nEN2\\nPercentage of materials used that are recycled input materials\\nNA\\nEN3\\nDirect energy consumption by primary energy source\\nPage 25\\nEN4\\nIndirect energy consumption by primary source\\nNot recorded\\nEN5*\\nEnergy saved due to conservation and efficiency improvements\\nPage 25\\nEN8\\nTotal water withdrawal by source\\nPage 27\\n')\n",
            "\n",
            "(39, '39\\nCorporate Responsibility Report 2016\\nShip safety inspections\\nLT13\\nList the accients when ships have been detained by port inspec-\\ntors\\nPage 20\\nUse of labour providers\\nLT16\\nDescribe how these criterias relate to existing international stan-\\ndards such as conventions of the ILO\\nPage 15\\nContinuity of employment\\nLT17\\nDescribe measures in place to provide income security and employ-\\nment continuity for workers employed/contraced repeatedly but \\nnot continuously\\nPage 15\\nHuman Rights\\nManagement Approach\\nHR1\\nHuman rights clauses or screening related to investment agree-\\nments\\nPage 12\\nHR2\\nScreening of suppliers and contractors regarding human rights\\nPage 12\\nHR4\\nTotal number of discrimination and actions taken\\nPage 19\\nHR5\\nFreedom of association and collective bargaining \\nPage 15\\nHR6\\nChild labor, and measures taken to contribute to the elimination of \\nchild labor\\nPage 15\\nHR7\\nForced or compulsory labor\\nPage 12\\nSociety\\nManagement Approach\\nSO1\\nImpacts of operations on communities, including entering, operat-\\ning, and exiting\\nNone\\nSO2\\nPercentage and total number of business units analyzed for risks \\nrelated to corruption.\\nPage 7\\nSO3\\nPercentage of employees trained in organization’s anti-corruption \\npolicies and procedures.\\nPage 9\\nSO4\\nActions taken in response to incidents of corruption.\\nPage 9\\nSO5\\nPublic policy positions and participation in public policy develop-\\nment and lobbying\\nPage 9\\nSO7*\\nLegal actions for anti-competitive behavior, anti-trust, and mo-\\nnopoly practices\\nNone\\nSO8\\nFines for non-compliance with laws and regulations concerning \\nprovision and use of products\\nNone\\nGrieg Star Group applies the G3 core performance \\nindicators and some specific indicators for the \\nTransport & Logistics sector in its reporting on sus-\\ntainability. The GRI index for 2016 is self-declared.\\n')\n",
            "\n"
          ]
        }
      ]
    },
    {
      "cell_type": "code",
      "source": [],
      "metadata": {
        "id": "kM2kgEvvOKDB"
      },
      "execution_count": null,
      "outputs": []
    }
  ]
}